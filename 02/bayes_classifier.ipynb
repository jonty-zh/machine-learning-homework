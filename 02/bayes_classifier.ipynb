{
 "cells": [
  {
   "cell_type": "code",
   "execution_count": 1,
   "metadata": {},
   "outputs": [],
   "source": [
    "#-*-coding:UTF-8 -*-\n",
    "# Author：张云涛 S322517454\n",
    "# Date：2022-09-10\n",
    "# Update：2022-09-10\n",
    "# File：linear_regression.ipynb\n",
    "# 贝叶斯分类"
   ]
  },
  {
   "cell_type": "markdown",
   "metadata": {},
   "source": [
    "编程设计实现一个基于条件风险最小的Bayes分类器\n",
    "要求\n",
    "- [x] 样本属性数量可任意输入设定\n",
    "- [ ] 混淆矩阵维度可任意设定\n",
    "- [x] 先验概率基于训练样本集自动求得"
   ]
  },
  {
   "cell_type": "markdown",
   "metadata": {},
   "source": [
    "混淆矩阵\n",
    "分别统计分类模型归错类、归对类的观测值个数，然后把结果放在一个表里展示出来，此表即为混淆矩阵。\n"
   ]
  },
  {
   "cell_type": "code",
   "execution_count": 1,
   "metadata": {},
   "outputs": [],
   "source": [
    "import numpy as np\n",
    "import pandas as pd\n",
    "import collections"
   ]
  },
  {
   "cell_type": "code",
   "execution_count": null,
   "metadata": {},
   "outputs": [],
   "source": [
    "class BayesClassifier:\n",
    "    def __init__(self):\n",
    "        pass\n",
    "    def cal(data):\n",
    "        \"\"\"计算概率\"\"\"\n",
    "        labels = data[:, -1]\n",
    "        data_cnt = collections.Counter(labels)\n",
    "        # 计算P(Y)\n",
    "        p_y = dict.fromkeys(data_cnt.keys())\n",
    "        for tag in p_y.keys():\n",
    "            p_y[tag] = data_cnt[tag]/len(labels)\n",
    "        # 计算P(Xi|Y)\n",
    "        p_xy = dict.fromkeys(data_cnt.keys())\n",
    "        for tag in p_xy.keys():\n",
    "            p_xy[tag] = dict()\n",
    "        \n",
    "        pass"
   ]
  }
 ],
 "metadata": {
  "kernelspec": {
   "display_name": "Python 3.9.12 ('drl')",
   "language": "python",
   "name": "python3"
  },
  "language_info": {
   "codemirror_mode": {
    "name": "ipython",
    "version": 3
   },
   "file_extension": ".py",
   "mimetype": "text/x-python",
   "name": "python",
   "nbconvert_exporter": "python",
   "pygments_lexer": "ipython3",
   "version": "3.9.12"
  },
  "orig_nbformat": 4,
  "vscode": {
   "interpreter": {
    "hash": "982988c5de13bfa104ec4f6e79d377853543840ed82930a1beb1c37ab0dac5c1"
   }
  }
 },
 "nbformat": 4,
 "nbformat_minor": 2
}
