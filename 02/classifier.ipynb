{
 "cells": [
  {
   "cell_type": "code",
   "execution_count": 1,
   "metadata": {},
   "outputs": [],
   "source": [
    "import numpy as np\n",
    "import pandas as pd\n",
    "import collections"
   ]
  },
  {
   "cell_type": "code",
   "execution_count": null,
   "metadata": {},
   "outputs": [],
   "source": [
    "def load_data(data_path):\n",
    "    '''加载训练数据'''\n",
    "    df = pd.read_csv(data_path)\n",
    "    # 删除属性，\n",
    "    del df['编号']\n",
    "    del df['密度']\n",
    "    del df['含糖率']\n",
    "    data = df.values\n",
    "    # print(data.shape, type(data))\n",
    "    return data \n"
   ]
  }
 ],
 "metadata": {
  "kernelspec": {
   "display_name": "Python 3.9.12 ('drl')",
   "language": "python",
   "name": "python3"
  },
  "language_info": {
   "codemirror_mode": {
    "name": "ipython",
    "version": 3
   },
   "file_extension": ".py",
   "mimetype": "text/x-python",
   "name": "python",
   "nbconvert_exporter": "python",
   "pygments_lexer": "ipython3",
   "version": "3.9.12"
  },
  "orig_nbformat": 4,
  "vscode": {
   "interpreter": {
    "hash": "982988c5de13bfa104ec4f6e79d377853543840ed82930a1beb1c37ab0dac5c1"
   }
  }
 },
 "nbformat": 4,
 "nbformat_minor": 2
}
